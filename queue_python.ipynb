{
  "nbformat": 4,
  "nbformat_minor": 0,
  "metadata": {
    "colab": {
      "provenance": [],
      "authorship_tag": "ABX9TyNW2bYBT3P7jJamPfXxCWBm",
      "include_colab_link": true
    },
    "kernelspec": {
      "name": "python3",
      "display_name": "Python 3"
    },
    "language_info": {
      "name": "python"
    }
  },
  "cells": [
    {
      "cell_type": "markdown",
      "metadata": {
        "id": "view-in-github",
        "colab_type": "text"
      },
      "source": [
        "<a href=\"https://colab.research.google.com/github/luan3642/queue_structure_python/blob/main/queue_python.ipynb\" target=\"_parent\"><img src=\"https://colab.research.google.com/assets/colab-badge.svg\" alt=\"Open In Colab\"/></a>"
      ]
    },
    {
      "cell_type": "code",
      "execution_count": null,
      "metadata": {
        "id": "s3WSVaGCajLL"
      },
      "outputs": [],
      "source": [
        "queue = []\n",
        "\n",
        "size = 0"
      ]
    },
    {
      "cell_type": "code",
      "source": [
        "def enqueue(value):\n",
        "    global size\n",
        "    queue.append(value)\n",
        "    size+=1"
      ],
      "metadata": {
        "id": "LyF5I_lbamxo"
      },
      "execution_count": null,
      "outputs": []
    },
    {
      "cell_type": "code",
      "source": [
        "def showQueue():\n",
        "   for x in queue:\n",
        "    print(x)"
      ],
      "metadata": {
        "id": "6hQLU46Va__j"
      },
      "execution_count": null,
      "outputs": []
    },
    {
      "cell_type": "code",
      "source": [
        "enqueue(\"luan\")\n",
        "enqueue(\"marcos\")\n",
        "enqueue(\"jorge\")"
      ],
      "metadata": {
        "id": "RUMBNXblbufB"
      },
      "execution_count": null,
      "outputs": []
    },
    {
      "cell_type": "code",
      "source": [
        "showQueue()"
      ],
      "metadata": {
        "colab": {
          "base_uri": "https://localhost:8080/"
        },
        "id": "DecW4AfDbpo7",
        "outputId": "aee62d75-c4b2-47a2-8359-bb0d6fda5f09"
      },
      "execution_count": null,
      "outputs": [
        {
          "output_type": "stream",
          "name": "stdout",
          "text": [
            "luan\n",
            "marcos\n",
            "jorge\n"
          ]
        }
      ]
    },
    {
      "cell_type": "code",
      "source": [
        "def isEmpty():\n",
        "  if len(queue) == 0:\n",
        "    return \"lista vazia\""
      ],
      "metadata": {
        "id": "hHjyNBb4fgDs"
      },
      "execution_count": null,
      "outputs": []
    },
    {
      "cell_type": "code",
      "source": [
        "def sizeQueue():\n",
        "  global size\n",
        "  return f\"tem na fila {size}\""
      ],
      "metadata": {
        "id": "zbdDqN8VhbC_"
      },
      "execution_count": null,
      "outputs": []
    },
    {
      "cell_type": "code",
      "source": [
        "def dequeue():\n",
        "  global size\n",
        "  if (isEmpty()):\n",
        "    return \"lista vazia, não tem como remover da fila\"\n",
        "  firstQueue = queue[0]\n",
        "  queue[:] = queue[1:]\n",
        "  size -= 1\n",
        "  return f\"a primeira pessoa sair da fila {firstQueue}\""
      ],
      "metadata": {
        "id": "7TIba8DkdsOm"
      },
      "execution_count": null,
      "outputs": []
    },
    {
      "cell_type": "code",
      "source": [
        "def peek():\n",
        "  return f\"o primeiro da fila é: {queue[0]} \""
      ],
      "metadata": {
        "id": "Rtsrhjkn3q1u"
      },
      "execution_count": null,
      "outputs": []
    },
    {
      "cell_type": "code",
      "source": [
        "showQueue()"
      ],
      "metadata": {
        "colab": {
          "base_uri": "https://localhost:8080/"
        },
        "id": "tJ8H-XIgf0VF",
        "outputId": "b7a2764d-cce2-432f-a800-f1ac670344d5"
      },
      "execution_count": null,
      "outputs": [
        {
          "output_type": "stream",
          "name": "stdout",
          "text": [
            "luan\n",
            "marcos\n",
            "jorge\n"
          ]
        }
      ]
    },
    {
      "cell_type": "code",
      "source": [
        "peek()"
      ],
      "metadata": {
        "colab": {
          "base_uri": "https://localhost:8080/",
          "height": 35
        },
        "id": "qX5St8zH4iOU",
        "outputId": "0ba98f62-5cec-42ef-bda3-2281b9f6ef09"
      },
      "execution_count": null,
      "outputs": [
        {
          "output_type": "execute_result",
          "data": {
            "text/plain": [
              "'o primeiro da fila é: luan '"
            ],
            "application/vnd.google.colaboratory.intrinsic+json": {
              "type": "string"
            }
          },
          "metadata": {},
          "execution_count": 54
        }
      ]
    },
    {
      "cell_type": "code",
      "source": [
        "sizeQueue()"
      ],
      "metadata": {
        "colab": {
          "base_uri": "https://localhost:8080/",
          "height": 35
        },
        "id": "V84hVp8thsGM",
        "outputId": "3e17aadc-22a7-4184-f328-0cd8e1f920a3"
      },
      "execution_count": null,
      "outputs": [
        {
          "output_type": "execute_result",
          "data": {
            "text/plain": [
              "'tem na fila 3'"
            ],
            "application/vnd.google.colaboratory.intrinsic+json": {
              "type": "string"
            }
          },
          "metadata": {},
          "execution_count": 55
        }
      ]
    },
    {
      "cell_type": "code",
      "source": [
        "dequeue()"
      ],
      "metadata": {
        "colab": {
          "base_uri": "https://localhost:8080/",
          "height": 35
        },
        "id": "IeAC_NF4f4bh",
        "outputId": "2c4f25c8-6f88-4102-a9dc-dd976e877540"
      },
      "execution_count": null,
      "outputs": [
        {
          "output_type": "execute_result",
          "data": {
            "text/plain": [
              "'a primeira pessoa sair da fila luan'"
            ],
            "application/vnd.google.colaboratory.intrinsic+json": {
              "type": "string"
            }
          },
          "metadata": {},
          "execution_count": 56
        }
      ]
    },
    {
      "cell_type": "code",
      "source": [
        "showQueue()"
      ],
      "metadata": {
        "colab": {
          "base_uri": "https://localhost:8080/"
        },
        "id": "Ci4_quoRf92W",
        "outputId": "77ceb8d4-7cf5-4d31-fc9a-2716117c4e4e"
      },
      "execution_count": null,
      "outputs": [
        {
          "output_type": "stream",
          "name": "stdout",
          "text": [
            "marcos\n",
            "jorge\n"
          ]
        }
      ]
    },
    {
      "cell_type": "code",
      "source": [
        "peek()"
      ],
      "metadata": {
        "colab": {
          "base_uri": "https://localhost:8080/",
          "height": 35
        },
        "id": "bO4QrvXA4tCI",
        "outputId": "91a645f6-ecfc-444c-984e-81dac593084a"
      },
      "execution_count": null,
      "outputs": [
        {
          "output_type": "execute_result",
          "data": {
            "text/plain": [
              "'o primeiro da fila é: marcos '"
            ],
            "application/vnd.google.colaboratory.intrinsic+json": {
              "type": "string"
            }
          },
          "metadata": {},
          "execution_count": 58
        }
      ]
    },
    {
      "cell_type": "code",
      "source": [
        "dequeue()"
      ],
      "metadata": {
        "colab": {
          "base_uri": "https://localhost:8080/",
          "height": 35
        },
        "id": "zsM1vorbg4QE",
        "outputId": "5e213d25-71c3-4e0f-f30f-49ffe9c79d19"
      },
      "execution_count": null,
      "outputs": [
        {
          "output_type": "execute_result",
          "data": {
            "text/plain": [
              "'a primeira pessoa sair da fila marcos'"
            ],
            "application/vnd.google.colaboratory.intrinsic+json": {
              "type": "string"
            }
          },
          "metadata": {},
          "execution_count": 59
        }
      ]
    },
    {
      "cell_type": "code",
      "source": [
        "showQueue()"
      ],
      "metadata": {
        "colab": {
          "base_uri": "https://localhost:8080/"
        },
        "id": "bJ4e_ZmUhQuM",
        "outputId": "0af68308-13a2-4f95-abdb-a27614aff3c5"
      },
      "execution_count": null,
      "outputs": [
        {
          "output_type": "stream",
          "name": "stdout",
          "text": [
            "jorge\n"
          ]
        }
      ]
    },
    {
      "cell_type": "code",
      "source": [
        "dequeue()"
      ],
      "metadata": {
        "colab": {
          "base_uri": "https://localhost:8080/",
          "height": 35
        },
        "id": "Dg0KaUHIhR_C",
        "outputId": "a13e456e-d396-4e5b-e2bc-f7d3c4ddef78"
      },
      "execution_count": null,
      "outputs": [
        {
          "output_type": "execute_result",
          "data": {
            "text/plain": [
              "'a primeira pessoa sair da fila jorge'"
            ],
            "application/vnd.google.colaboratory.intrinsic+json": {
              "type": "string"
            }
          },
          "metadata": {},
          "execution_count": 61
        }
      ]
    },
    {
      "cell_type": "code",
      "source": [
        "showQueue()"
      ],
      "metadata": {
        "id": "1_xmmrVXhTj_"
      },
      "execution_count": null,
      "outputs": []
    },
    {
      "cell_type": "code",
      "source": [
        "dequeue()"
      ],
      "metadata": {
        "colab": {
          "base_uri": "https://localhost:8080/",
          "height": 35
        },
        "id": "6B1EYbrshU83",
        "outputId": "c5b7d149-3db4-413f-dbd4-9a8008137a0a"
      },
      "execution_count": null,
      "outputs": [
        {
          "output_type": "execute_result",
          "data": {
            "text/plain": [
              "'lista vazia, não tem como remover da fila'"
            ],
            "application/vnd.google.colaboratory.intrinsic+json": {
              "type": "string"
            }
          },
          "metadata": {},
          "execution_count": 63
        }
      ]
    },
    {
      "cell_type": "code",
      "source": [],
      "metadata": {
        "id": "BWU7I5jUhXfu"
      },
      "execution_count": null,
      "outputs": []
    }
  ]
}